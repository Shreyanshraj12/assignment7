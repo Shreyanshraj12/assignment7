{
 "cells": [
  {
   "cell_type": "code",
   "execution_count": 1,
   "metadata": {},
   "outputs": [
    {
     "name": "stdout",
     "output_type": "stream",
     "text": [
      "bacdfeg\n"
     ]
    }
   ],
   "source": [
    "def reverseStr(s, k):\n",
    "    chars = list(s)\n",
    "    n = len(chars)\n",
    "\n",
    "    for i in range(0, n, 2*k):\n",
    "        chars[i:i+k] = chars[i:i+k][::-1]\n",
    "\n",
    "    return ''.join(chars)\n",
    "s = \"abcdefg\"\n",
    "k = 2\n",
    "print(reverseStr(s, k))"
   ]
  }
 ],
 "metadata": {
  "kernelspec": {
   "display_name": "Python 3",
   "language": "python",
   "name": "python3"
  },
  "language_info": {
   "codemirror_mode": {
    "name": "ipython",
    "version": 3
   },
   "file_extension": ".py",
   "mimetype": "text/x-python",
   "name": "python",
   "nbconvert_exporter": "python",
   "pygments_lexer": "ipython3",
   "version": "3.11.1"
  },
  "orig_nbformat": 4
 },
 "nbformat": 4,
 "nbformat_minor": 2
}
