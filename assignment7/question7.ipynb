{
 "cells": [
  {
   "cell_type": "code",
   "execution_count": 2,
   "metadata": {},
   "outputs": [
    {
     "name": "stdout",
     "output_type": "stream",
     "text": [
      "True\n"
     ]
    }
   ],
   "source": [
    "def backspaceCompare(s, t):\n",
    "    stack_s = []\n",
    "    stack_t = []\n",
    "\n",
    "    for ch in s:\n",
    "        if ch != '#':\n",
    "            stack_s.append(ch)\n",
    "        elif stack_s:\n",
    "            stack_s.pop()\n",
    "\n",
    "    for ch in t:\n",
    "        if ch != '#':\n",
    "            stack_t.append(ch)\n",
    "        elif stack_t:\n",
    "            stack_t.pop()\n",
    "\n",
    "    return stack_s == stack_t\n",
    "s = \"ab#c\"\n",
    "t = \"ad#c\"\n",
    "print(backspaceCompare(s, t))"
   ]
  }
 ],
 "metadata": {
  "kernelspec": {
   "display_name": "Python 3",
   "language": "python",
   "name": "python3"
  },
  "language_info": {
   "codemirror_mode": {
    "name": "ipython",
    "version": 3
   },
   "file_extension": ".py",
   "mimetype": "text/x-python",
   "name": "python",
   "nbconvert_exporter": "python",
   "pygments_lexer": "ipython3",
   "version": "3.11.1"
  },
  "orig_nbformat": 4
 },
 "nbformat": 4,
 "nbformat_minor": 2
}
